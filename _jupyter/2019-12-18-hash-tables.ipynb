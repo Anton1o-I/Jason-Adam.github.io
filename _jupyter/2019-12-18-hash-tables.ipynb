{
 "cells": [
  {
   "cell_type": "markdown",
   "metadata": {},
   "source": [
    "---\n",
    "layout: post  \n",
    "mathjax: true  \n",
    "comments: true  \n",
    "title: Hash Tables  \n",
    "tags: [Data Structures]  \n",
    "---  \n",
    "\n",
    "Small post about hash tables.  \n",
    "\n",
    "This post aims to explain a basic data structure, the Hash Table. Before jumping into a hash table, we'll start with what a hash function is. In it's simplest state, a hash function maps strings to numbers. We input some string (i.e. \"Hello\") into a hash function, and we get a number in return (1). The goal of a hash function is to map the same word to the same number consistently and to map different words to different numbers. Below is a simple graphic from Grokking Algorithms that illustrates the point.  \n",
    "\n",
    "![](hash_table1.png)\n",
    "\n",
    "This becomes useful when we combine it with [arrays](https://jason-adam.github.io/linkedList-arrays/). The hashing function can store the string value that's generated at the index id of an array. Since arrays allow extremely fast random access based on indices, we can retrieve those string values at a later time almost instantly.  Below is another graphic representing this idea.  \n",
    "\n",
    "![](hash_table2.png)  \n",
    "![](hash_table3.png)\n",
    "\n",
    "These two components form our **Hash Table**.  \n",
    "\n",
    "Pretty much all languages have their own implementation of a hash table, and python is no different. In python the `dict` object is the implementation of a hash table. Hash tables are extremely fast at retrieving data, and in python we can access the values of a dictionary by passing in the key. Below is a basic example."
   ]
  },
  {
   "cell_type": "code",
   "execution_count": 1,
   "metadata": {},
   "outputs": [],
   "source": [
    "# Graduate school DS prices $\n",
    "prices = {\n",
    "    \"NU\": 50000,\n",
    "    \"ND\": 45000,\n",
    "    \"BK\": 60000,\n",
    "    \"GT\": 7000,\n",
    "}"
   ]
  },
  {
   "cell_type": "markdown",
   "metadata": {},
   "source": [
    "We now have a basic dictionary with several *key-value* pairs. We can access any item in the dictionary by simply passing the key like so:"
   ]
  },
  {
   "cell_type": "code",
   "execution_count": 2,
   "metadata": {},
   "outputs": [
    {
     "data": {
      "text/plain": [
       "50000"
      ]
     },
     "execution_count": 2,
     "metadata": {},
     "output_type": "execute_result"
    }
   ],
   "source": [
    "prices[\"NU\"]"
   ]
  },
  {
   "cell_type": "markdown",
   "metadata": {},
   "source": [
    "## Use Cases  \n",
    "Hash a large number of use cases. Bhargava [1] lists a few: \n",
    "1. Using hash tables as a cache  \n",
    "2. General lookups (like the example above)  \n",
    "3. Preventing duplicate entries  \n",
    "\n",
    "The caching example is one that many internet users often overlook. We've all heard **\"have you tried clearing your browser cache?\"** before, but how many of us actually understand what that means? Our browser saves the representations of websites we freqent so that next time we access them it will be extremely fast because of the fact that our computer (client) doesn't have to make another server call. A simple graphic below displays this nicely.  \n",
    "\n",
    "![](hash_table4.png)\n",
    "\n",
    "Python has a handy `get` method that you can call on a dictionary to get the value of a **key**. If the key does not exist, a default value of `None` is returned. This is an easy way to check if a value exists, and this is actually how a cache works at a rudimentary level."
   ]
  },
  {
   "cell_type": "code",
   "execution_count": 5,
   "metadata": {},
   "outputs": [
    {
     "name": "stdout",
     "output_type": "stream",
     "text": [
      "None\n"
     ]
    }
   ],
   "source": [
    "if not prices.get(\"AA\"):\n",
    "    print(None)\n",
    "else:\n",
    "    print(prices.get(\"AA\"))"
   ]
  },
  {
   "cell_type": "markdown",
   "metadata": {},
   "source": [
    "## Recap  \n",
    "* Hash tables are a very fast way to store data.  \n",
    "* Hash tables are commonly used to filter duplicates.  \n",
    "* Hash tables are heavily used for caching data instead of making your server perform repeated work.  \n",
    "\n",
    "### Reference  \n",
    "[1] Bhargava, A. Y. (2016). Grokking algorithms: An illustrated guide for programmers and other curious people."
   ]
  }
 ],
 "metadata": {
  "kernelspec": {
   "display_name": "Jason-Adam.github.io",
   "language": "python",
   "name": "jason-adam.github.io"
  },
  "language_info": {
   "codemirror_mode": {
    "name": "ipython",
    "version": 3
   },
   "file_extension": ".py",
   "mimetype": "text/x-python",
   "name": "python",
   "nbconvert_exporter": "python",
   "pygments_lexer": "ipython3",
   "version": "3.7.5"
  }
 },
 "nbformat": 4,
 "nbformat_minor": 4
}
