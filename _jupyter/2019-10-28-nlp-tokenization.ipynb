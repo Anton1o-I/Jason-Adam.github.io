{
 "cells": [
  {
   "cell_type": "markdown",
   "metadata": {},
   "source": [
    "This is a brief tutorial on manual text tokenization of a document corpus using the `nltk` library.  \n",
    "\n",
    "The corpus used in this tutorial was created by a crawler I wrote utilizing the `scrapy` library. The repo for that project can be found here (https://github.com/Jason-Adam/stack-crawler). The purpose of the crawler was to build a corpus of top StackOverflow questions related to **Artificial Intelligence**, **Machine Learning**, and **NLP** that could be used for further modeling work.  \n",
    "\n",
    "## Imports"
   ]
  },
  {
   "cell_type": "code",
   "execution_count": 7,
   "metadata": {},
   "outputs": [
    {
     "name": "stdout",
     "output_type": "stream",
     "text": [
      "The blackcellmagic extension is already loaded. To reload it, use:\n",
      "  %reload_ext blackcellmagic\n"
     ]
    }
   ],
   "source": [
    "import os\n",
    "import re\n",
    "import string\n",
    "\n",
    "from nltk.tokenize import word_tokenize\n",
    "from nltk.corpus import stopwords\n",
    "\n",
    "import pandas as pd\n",
    "import pymongo\n",
    "\n",
    "%load_ext blackcellmagic"
   ]
  },
  {
   "cell_type": "code",
   "execution_count": 8,
   "metadata": {},
   "outputs": [],
   "source": [
    "# Global Variables\n",
    "COLLECTIONS = [\"ai_questions\", \"ml_questions\", \"nlp_questions\"]"
   ]
  },
  {
   "cell_type": "markdown",
   "metadata": {},
   "source": [
    "The crawler is setup to write to a local MongoDB on my computer. The following section retrieves each document from the corpus and loads it to pandas dataframe.  \n",
    "\n",
    "## Retrieve Corpus from MongoDB"
   ]
  },
  {
   "cell_type": "code",
   "execution_count": 9,
   "metadata": {},
   "outputs": [],
   "source": [
    "# Retrieve questions from MongoDB\n",
    "def get_question_txt(collection: str) -> list:\n",
    "    client = pymongo.MongoClient(host=\"localhost\", port=27017)\n",
    "    db = client[\"stackoverflow\"]\n",
    "    ai = pymongo.collection.Collection(database=db, name=collection)\n",
    "    cursor = ai.find({})\n",
    "    return [(collection, i[\"url\"], i[\"title\"], i[\"question\"]) for i in cursor]\n",
    "\n",
    "\n",
    "# Write corpus to pandas df\n",
    "def convert_corpus(collection: list) -> dict:\n",
    "    corp = {\n",
    "        \"so_tag\": [],\n",
    "        \"title\": [],\n",
    "        \"url\": [],\n",
    "        \"question\": [],\n",
    "    }\n",
    "\n",
    "    for c in collection:\n",
    "        docs = get_question_txt(c)\n",
    "        for q in docs:\n",
    "            corp[\"so_tag\"].append(q[0])\n",
    "            corp[\"url\"].append(q[1])\n",
    "            corp[\"title\"].append(q[2])\n",
    "            corp[\"question\"].append(q[3])\n",
    "\n",
    "    return pd.DataFrame(corp)"
   ]
  },
  {
   "cell_type": "markdown",
   "metadata": {},
   "source": [
    "The code above creates a connection to the local MongoDB, loops through the document collections and loads all documents with their title and URL as a list of tuples. The second function converts the list of tuples to a pandas dataframe."
   ]
  },
  {
   "cell_type": "code",
   "execution_count": 27,
   "metadata": {},
   "outputs": [
    {
     "name": "stdout",
     "output_type": "stream",
     "text": [
      "(1494, 4)\n"
     ]
    }
   ],
   "source": [
    "cdf = convert_corpus(COLLECTIONS)\n",
    "print(cdf.shape)"
   ]
  },
  {
   "cell_type": "markdown",
   "metadata": {},
   "source": [
    "We can see that the documents loaded correctly and that there are 1,494 of them in the entire corpus. On StackOverflow, questions can have more than one tag, so we'll remove any duplicate documents so that we have independent samples for each class."
   ]
  },
  {
   "cell_type": "code",
   "execution_count": 26,
   "metadata": {},
   "outputs": [
    {
     "name": "stdout",
     "output_type": "stream",
     "text": [
      "(1313, 6)\n"
     ]
    }
   ],
   "source": [
    "cdf.drop_duplicates(subset=\"url\", keep=False, inplace=True)\n",
    "cdf.reset_index(inplace=True, drop=True)\n",
    "print(cdf.shape)"
   ]
  },
  {
   "cell_type": "code",
   "execution_count": 13,
   "metadata": {},
   "outputs": [
    {
     "data": {
      "text/html": [
       "<div>\n",
       "<style scoped>\n",
       "    .dataframe tbody tr th:only-of-type {\n",
       "        vertical-align: middle;\n",
       "    }\n",
       "\n",
       "    .dataframe tbody tr th {\n",
       "        vertical-align: top;\n",
       "    }\n",
       "\n",
       "    .dataframe thead th {\n",
       "        text-align: right;\n",
       "    }\n",
       "</style>\n",
       "<table border=\"1\" class=\"dataframe\">\n",
       "  <thead>\n",
       "    <tr style=\"text-align: right;\">\n",
       "      <th></th>\n",
       "      <th>so_tag</th>\n",
       "      <th>title</th>\n",
       "      <th>url</th>\n",
       "      <th>question</th>\n",
       "    </tr>\n",
       "  </thead>\n",
       "  <tbody>\n",
       "    <tr>\n",
       "      <th>0</th>\n",
       "      <td>ai_questions</td>\n",
       "      <td>What is the optimal algorithm for the game 2048?</td>\n",
       "      <td>/questions/22342854/what-is-the-optimal-algori...</td>\n",
       "      <td>I have recently stumbled upon the game 2048. Y...</td>\n",
       "    </tr>\n",
       "    <tr>\n",
       "      <th>1</th>\n",
       "      <td>ai_questions</td>\n",
       "      <td>Pacman: how do the eyes find their way back to...</td>\n",
       "      <td>/questions/3148435/pacman-how-do-the-eyes-find...</td>\n",
       "      <td>I found a lot of references to the AI of the g...</td>\n",
       "    </tr>\n",
       "    <tr>\n",
       "      <th>2</th>\n",
       "      <td>ai_questions</td>\n",
       "      <td>What is the best Battleship AI?</td>\n",
       "      <td>/questions/1631414/what-is-the-best-battleship-ai</td>\n",
       "      <td>Battleship! Back in 2003 (when I was 17), I co...</td>\n",
       "    </tr>\n",
       "    <tr>\n",
       "      <th>3</th>\n",
       "      <td>ai_questions</td>\n",
       "      <td>source of historical stock data [closed]</td>\n",
       "      <td>/questions/754593/source-of-historical-stock-data</td>\n",
       "      <td>I'm trying to make a stock market simulator (p...</td>\n",
       "    </tr>\n",
       "    <tr>\n",
       "      <th>4</th>\n",
       "      <td>ai_questions</td>\n",
       "      <td>What are good examples of genetic algorithms/g...</td>\n",
       "      <td>/questions/1538235/what-are-good-examples-of-g...</td>\n",
       "      <td>Genetic algorithms (GA) and genetic programmin...</td>\n",
       "    </tr>\n",
       "  </tbody>\n",
       "</table>\n",
       "</div>"
      ],
      "text/plain": [
       "         so_tag                                              title  \\\n",
       "0  ai_questions   What is the optimal algorithm for the game 2048?   \n",
       "1  ai_questions  Pacman: how do the eyes find their way back to...   \n",
       "2  ai_questions                    What is the best Battleship AI?   \n",
       "3  ai_questions           source of historical stock data [closed]   \n",
       "4  ai_questions  What are good examples of genetic algorithms/g...   \n",
       "\n",
       "                                                 url  \\\n",
       "0  /questions/22342854/what-is-the-optimal-algori...   \n",
       "1  /questions/3148435/pacman-how-do-the-eyes-find...   \n",
       "2  /questions/1631414/what-is-the-best-battleship-ai   \n",
       "3  /questions/754593/source-of-historical-stock-data   \n",
       "4  /questions/1538235/what-are-good-examples-of-g...   \n",
       "\n",
       "                                            question  \n",
       "0  I have recently stumbled upon the game 2048. Y...  \n",
       "1  I found a lot of references to the AI of the g...  \n",
       "2  Battleship! Back in 2003 (when I was 17), I co...  \n",
       "3  I'm trying to make a stock market simulator (p...  \n",
       "4  Genetic algorithms (GA) and genetic programmin...  "
      ]
     },
     "execution_count": 13,
     "metadata": {},
     "output_type": "execute_result"
    }
   ],
   "source": [
    "cdf.head()"
   ]
  },
  {
   "cell_type": "markdown",
   "metadata": {},
   "source": [
    "We can see that we've lost some records but not many.  \n",
    "\n",
    "## Tokenization  \n",
    "Tokenization is the first step in any NLP pipeline. In general terms, tokenization is the task of segmenting documents. The most common way to tokenize documents is to break them into individual words. Once we break down documents to discrete elements (tokens), we can use them for subsequent modeling and analysis. Some of the main challenges involved with tokenization are:  \n",
    "* Stop words (i.e. the, and, etc.)  \n",
    "* Punctuation  \n",
    "* Removal of Numbers  \n",
    "* Removal of tags (i.e. HTML tags is document is scraped)  \n",
    "\n",
    "For this particular corpus, I've stripped off all HTML tags during the scraping process. We will focus on the other components in the next step.  "
   ]
  },
  {
   "cell_type": "code",
   "execution_count": 16,
   "metadata": {},
   "outputs": [],
   "source": [
    "# Regex for removing punctuation\n",
    "re_punc = re.compile(\"[%s]\" % re.escape(string.punctuation))\n",
    "\n",
    "# Tokenize text and join back as one string\n",
    "def tokenize_txt(txt: str):\n",
    "    tok = word_tokenize(txt)\n",
    "    tok = [w.lower() for w in tok]\n",
    "    tok = [re_punc.sub(\"\", w) for w in tok]\n",
    "    tok = [word for word in tok if word.isalpha()]\n",
    "    stop_words = set(stopwords.words(\"english\"))\n",
    "    tok = [w for w in tok if w not in stop_words]\n",
    "    return \" \".join(tok)"
   ]
  },
  {
   "cell_type": "markdown",
   "metadata": {},
   "source": [
    "The above function takes in a string (i.e. one of the documents) and first splits it into a list of individual words. The list of words in converted to lowercase, all punctuation is removed, and any numeric values are removed. Stop words are removed before combining the words back together as a cleaned document that can be used in future modeling work via `scikit-learn`, `keras`, `gensim`, etc.  \n",
    "\n",
    "We could have just returned a list of words, but that on it's own isn't as useful as the fully cleaned document."
   ]
  },
  {
   "cell_type": "code",
   "execution_count": 18,
   "metadata": {},
   "outputs": [],
   "source": [
    "# Tokenize questions\n",
    "cdf[\"cleaned_question\"] = cdf[\"question\"].apply(tokenize_txt)\n",
    "\n",
    "# Create document id based on unique numeric value from URL field\n",
    "cdf[\"doc_id\"] = cdf.apply(lambda r: r[\"url\"].split(\"/\")[2], axis=1)"
   ]
  },
  {
   "cell_type": "markdown",
   "metadata": {},
   "source": [
    "Below we can see a single document before and after.  \n",
    "\n",
    "**Before**"
   ]
  },
  {
   "cell_type": "code",
   "execution_count": 24,
   "metadata": {},
   "outputs": [
    {
     "name": "stdout",
     "output_type": "stream",
     "text": [
      "I have recently stumbled upon the game 2048. You merge similar tiles by moving them in any of the four directions to make \"bigger\" tiles. After each move, a new tile appears at random empty position with a value of either 2 or 4. The game terminates when all the boxes are filled and there are no moves that can merge tiles, or you create a tile with a value of 2048. One, I need to follow a well-defined strategy to reach the goal. So, I thought of writing a program for it. My current algorithm: What I am doing is at any point, I will try to merge the tiles with values 2 and 4, that is, I try to have 2 and 4 tiles, as minimum as possible. If I try it this way, all other tiles were automatically getting merged and the strategy seems good. But, when I actually use this algorithm, I only get around 4000 points before the game terminates. Maximum points AFAIK is slightly more than 20,000 points which is way larger than my current score. Is there a better algorithm than the above?\n"
     ]
    }
   ],
   "source": [
    "cdf"
   ]
  },
  {
   "cell_type": "markdown",
   "metadata": {},
   "source": [
    "**After**"
   ]
  },
  {
   "cell_type": "code",
   "execution_count": 25,
   "metadata": {},
   "outputs": [
    {
     "name": "stdout",
     "output_type": "stream",
     "text": [
      "recently stumbled upon game merge similar tiles moving four directions make bigger tiles move new tile appears random empty position value either game terminates boxes filled moves merge tiles create tile value one need follow welldefined strategy reach goal thought writing program current algorithm point try merge tiles values try tiles minimum possible try way tiles automatically getting merged strategy seems good actually use algorithm get around points game terminates maximum points afaik slightly points way larger current score better algorithm\n"
     ]
    }
   ],
   "source": [
    "print(cdf.iloc[0, 4])"
   ]
  },
  {
   "cell_type": "markdown",
   "metadata": {},
   "source": [
    "## Summary  \n",
    "Tokenization is a critical step in any NLP pipeline, and great attention should be paid to it. This is a brief summary of some of the challenges encountered when tokenizing documents, but hopefully it gives some guidance on starting the process."
   ]
  }
 ],
 "metadata": {
  "kernelspec": {
   "display_name": "Jason-Adam.github.io",
   "language": "python",
   "name": "jason-adam.github.io"
  },
  "language_info": {
   "codemirror_mode": {
    "name": "ipython",
    "version": 3
   },
   "file_extension": ".py",
   "mimetype": "text/x-python",
   "name": "python",
   "nbconvert_exporter": "python",
   "pygments_lexer": "ipython3",
   "version": "3.7.3"
  }
 },
 "nbformat": 4,
 "nbformat_minor": 4
}
