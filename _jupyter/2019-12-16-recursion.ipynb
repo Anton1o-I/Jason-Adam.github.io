{
 "cells": [
  {
   "cell_type": "markdown",
   "metadata": {},
   "source": [
    "---\n",
    "layout: post  \n",
    "mathjax: true  \n",
    "comments: true  \n",
    "title: Recursion  \n",
    "tags: [Algorithm]  \n",
    "---  \n",
    "\n",
    "Small post about recursion basics.  \n",
    "\n",
    "Recursion is a fundamental concept in computer science and programming. It can be a very elegant way to solve a problem, but understanding it eludes a great many folks. In order to understand recursion, we have to take a step back and understand a different fundamental concept first --> *The Stack*.  \n",
    "\n",
    "## Call Stack  \n",
    "The stack is a simple data structure that encompasses two basic functions.  \n",
    "1. Push -> add a new item to the top  \n",
    "2. Pop -> remove the top-most item and read it  \n",
    "Computer's implement this data structure in the form of the *Call Stack*. The call stack acts as a sort of record in memory for a function call. When a function contains a nested function, the top-level function is paused in a partially completed state until the inner function returns. Only when all inner functions have been satisfied can the top-level function return. Each inner function gets **stacked** on the base function (hence the name) and **popped** once they return.  \n",
    "\n",
    "Now that we've defined what a stack is, let's demonstrate both of these concepts with a popular example, [Euclid's Algorithm](https://en.wikipedia.org/wiki/Euclidean_algorithm). Euclid's Algorithm is a well-known way for computing the greatest common divisor of two numbers, and it is an excellent use-case for recursion.  \n",
    "\n",
    "## Euclid's Algorithm  \n",
    "Euclid's algorithm is an elegant solution to finding the greates common divisor of two numbers. The algorithm takes the following steps:  \n",
    "1. Check if the smaller number can be evenly divided into the larger number -> if it can, the GCD is the smaller number.\n",
    "2. If the smaller number can't be divided into the larger number, take the difference between the two and compare to the smaller number again.  \n",
    "\n",
    "This turns out to be a very simple, yet powerful approach, and it lends itself nicely to recursion. Recursion can loosely be defined as a function that calls itself. It is made up of two cases:  \n",
    "* Base Case -> the termination criteria  \n",
    "* Recursive Case -> Criteria to repeat the function call until the base case is met  \n",
    "\n",
    "Recursion uses the call stack, and it can become very memory intensive if you're not careful. Each recursive call is added to call stack until the base case is met. If the recursive function requires many repeated calls, the call stack will grow quite large.  \n",
    "\n",
    "Now that we have a better understanding of recursion and the call stack, let's write out the algorithm."
   ]
  },
  {
   "cell_type": "code",
   "execution_count": 3,
   "metadata": {},
   "outputs": [],
   "source": [
    "def euclids_algo(x: int, y: int) -> int:\n",
    "    # Base Case\n",
    "    if (x == 0) or (y == 0):\n",
    "        return 0\n",
    "    # Base Case Alt.\n",
    "    elif x == y:\n",
    "        return x\n",
    "    # Recursive Case (calls itself)\n",
    "    else:\n",
    "        return euclids_algo(abs(x - y), min(x, y))"
   ]
  },
  {
   "cell_type": "markdown",
   "metadata": {},
   "source": [
    "We can now test this recursive function out on some simple examples to see how it works. We'll start with a simple example (the numbers 50 and 15). We should end up with the number 5. I chose these numbers as they're easy to intuit."
   ]
  },
  {
   "cell_type": "code",
   "execution_count": 5,
   "metadata": {},
   "outputs": [
    {
     "data": {
      "text/plain": [
       "5"
      ]
     },
     "execution_count": 5,
     "metadata": {},
     "output_type": "execute_result"
    }
   ],
   "source": [
    "euclids_algo(50, 15)"
   ]
  },
  {
   "cell_type": "markdown",
   "metadata": {},
   "source": [
    "That was easy! Let's try it with a more complicated pair of numbers that isn't easy to inuit."
   ]
  },
  {
   "cell_type": "code",
   "execution_count": 6,
   "metadata": {},
   "outputs": [
    {
     "data": {
      "text/plain": [
       "31"
      ]
     },
     "execution_count": 6,
     "metadata": {},
     "output_type": "execute_result"
    }
   ],
   "source": [
    "euclids_algo(1147, 899)"
   ]
  },
  {
   "cell_type": "markdown",
   "metadata": {},
   "source": [
    "How do we know if this is correct? Let's walk through the algo by hand:\n",
    "\n",
    "899 can't be divided into 1147  \n",
    "-> 1147 - 899 = 248 (new pair is 248 and 899)  \n",
    "-> 248 can't be divided into 899  \n",
    "-> 899 - 248 = 651 (new pair is 651 and 248)  \n",
    "-> 248 can't be divided into 651  \n",
    "-> 651 - 248 = 403 (new pair is 403, 248)  \n",
    "-> 248 can't be divided into 403  \n",
    "-> 403 - 248 = 155 (new pair is 248 and 155)  \n",
    "-> 155 can't be divided into 248  \n",
    "-> 248 - 155 = 93 (new pair is 155 and 93)  \n",
    "-> 93 can't be divided into 155  \n",
    "-> 155 - 93 = 62 (new pair is 93 and 62)  \n",
    "-> 62 can't be divided into 93  \n",
    "-> 93 - 62 = 31 (new pair is 62 and 31)  \n",
    "-> Base Case Reached! 31 can be evenly divided into 62!  \n",
    "\n",
    "This flow is very similar to how the call stack will look for the recursive call. Each successive call will add to the top of the stack until the base case is met. Once it's met, the calls will return until the stack reaches the original function call (in this case it was `euclids_algo(1147, 899)`).  \n",
    "\n",
    "## Summary  \n",
    "To summarise:  \n",
    "* Recursion is a when a function calls itself.  \n",
    "* The stack is a LIFO data structure (Last in First Out).  \n",
    "* Recursive calls can become memory intensive if not careful.  \n",
    "* Euclid's algorithm is an elegant solution that can be implemented recursively.  \n",
    "\n",
    "### Reference\n",
    "[1] Bhargava, A. Y. (2016). Grokking algorithms: An illustrated guide for programmers and other curious people."
   ]
  }
 ],
 "metadata": {
  "kernelspec": {
   "display_name": "Jason-Adam.github.io",
   "language": "python",
   "name": "jason-adam.github.io"
  },
  "language_info": {
   "codemirror_mode": {
    "name": "ipython",
    "version": 3
   },
   "file_extension": ".py",
   "mimetype": "text/x-python",
   "name": "python",
   "nbconvert_exporter": "python",
   "pygments_lexer": "ipython3",
   "version": "3.7.5"
  }
 },
 "nbformat": 4,
 "nbformat_minor": 4
}
