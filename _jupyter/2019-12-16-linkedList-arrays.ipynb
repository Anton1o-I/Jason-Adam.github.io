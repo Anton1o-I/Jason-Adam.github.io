{
 "cells": [
  {
   "cell_type": "markdown",
   "metadata": {},
   "source": [
    "---\n",
    "layout: post  \n",
    "mathjax: true  \n",
    "comments: true  \n",
    "title: Linked List vs Arrays\n",
    "tags: [Data Structures]  \n",
    "---\n",
    "\n",
    "Quick introduction to Linked Lists vs Arrays.  \n",
    "\n",
    "## Linked Lists  \n",
    "Linked lists are a common data structure for storing a series of items in memory. Each item stores the address of the next item in the list.  Linked lists are handy because you never have to move your items around in memory. None of the items need to be next to one another. Typically linked lists are better for insertions since there is no initial space requirement of contiguous blocks of memory.  \n",
    "\n",
    "Below is a snippet taken from Grokking Algorithms[1] to illustrate the point.  \n",
    "![](ll_memory.png)  \n",
    "\n",
    "## Arrays  \n",
    "Arrays consist of contiguous blocks of memory. With arrays you know the memory address for every item in the array. The following image utilizes 0 indexing to represent the memory locations in the array.  \n",
    "![](array_memory.png)  \n",
    "Arrays are great if you want to read random elements because you can lookup the item instantly with it's index location.  \n",
    "\n",
    "## Run Time Comparison  \n",
    "Both of these basic data structures are used often. Arrays allow for random access and are extremely fast, but they require contiguous memory which can hamper their ability to expand. Linked lists can handle operations like insertions and deletions much easier as they only have to update the reference to the next item in memory. Nothing has to be moved.  \n",
    "![](run_time_compare.png)  \n",
    "$O(1)$ refers to a constant run time. Every item has the same run time complexity.  \n",
    "$O(n)$ refers to a linear run time.  \n",
    "\n",
    "## Extra  \n",
    "It's possible for these data structures to be combined. Sometimes an array can contain an linked list at a particular memory location as seen below.  \n",
    "![](combined.png)  \n",
    "\n",
    "### Reference  \n",
    "[1] Bhargava, A. Y. (2016). Grokking algorithms: An illustrated guide for programmers and other curious people."
   ]
  }
 ],
 "metadata": {
  "kernelspec": {
   "display_name": "Jason-Adam.github.io",
   "language": "python",
   "name": "jason-adam.github.io"
  },
  "language_info": {
   "codemirror_mode": {
    "name": "ipython",
    "version": 3
   },
   "file_extension": ".py",
   "mimetype": "text/x-python",
   "name": "python",
   "nbconvert_exporter": "python",
   "pygments_lexer": "ipython3",
   "version": "3.7.5"
  }
 },
 "nbformat": 4,
 "nbformat_minor": 4
}
