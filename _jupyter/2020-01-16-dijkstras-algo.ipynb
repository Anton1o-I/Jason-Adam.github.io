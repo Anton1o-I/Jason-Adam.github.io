{
 "cells": [
  {
   "cell_type": "markdown",
   "metadata": {},
   "source": [
    "---\n",
    "layout: post  \n",
    "mathjax: true  \n",
    "comments: true  \n",
    "title: Dijkstra's Algorithm  \n",
    "tags: [Algorithm]  \n",
    "---  \n",
    "\n",
    "What is Dijkstra's Algorithm?  \n",
    "\n",
    "Dijkstra's algorithm is a well known graph algorithm used to find the fastest path from start to finish. Below is a small graph to illustrate the point. The green path is the fastest path from start to finish, while the blue path represents the shortest path (in terms of edges traversed).  \n",
    "\n",
    "![](../imgs/2020-01-16-dijkstras-algo/sample_graph1.jpeg)  \n",
    "\n",
    "This example is extremely basic, and it's easy to see the solution without an algorithm, but as the graph grows in size this becomes impossible. This is where Dijkstra's algorithm comes into play. Below are the general steps of the algorithm (I'll explain each in a little more depth below) [1].  \n",
    "\n",
    "1. Find the cheapest node (this is the node you can get to in least amount of time). \n",
    "2. Update the costs of the neighbors of this node.  \n",
    "3. Repeat until you've done this for every node in the graph.  \n",
    "4. Calculate the final path.  "
   ]
  },
  {
   "cell_type": "markdown",
   "metadata": {},
   "source": [
    "### Reference  \n",
    "[1] Bhargava, A. Y. (2016). Grokking algorithms: An illustrated guide for programmers and other curious people."
   ]
  },
  {
   "cell_type": "code",
   "execution_count": null,
   "metadata": {},
   "outputs": [],
   "source": []
  }
 ],
 "metadata": {
  "kernelspec": {
   "display_name": "Jason-Adam.github.io",
   "language": "python",
   "name": "jason-adam.github.io"
  },
  "language_info": {
   "codemirror_mode": {
    "name": "ipython",
    "version": 3
   },
   "file_extension": ".py",
   "mimetype": "text/x-python",
   "name": "python",
   "nbconvert_exporter": "python",
   "pygments_lexer": "ipython3",
   "version": "3.7.5"
  }
 },
 "nbformat": 4,
 "nbformat_minor": 4
}
